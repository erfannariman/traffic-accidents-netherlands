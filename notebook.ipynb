{
 "cells": [
  {
   "cell_type": "markdown",
   "metadata": {},
   "source": [
    "# Exploratory data analysis of the dutch road accidents \n",
    "_Timespan of data: 2004-2015_\n",
    "\n",
    "<img src='./img/accident.jpeg'>\n",
    "\n",
    "Author: Erfan Nariman  \n",
    "Date: 20-09-2020"
   ]
  },
  {
   "cell_type": "code",
   "execution_count": 1,
   "metadata": {},
   "outputs": [],
   "source": [
    "import os\n",
    "import pandas as pd\n",
    "import re\n",
    "pd.set_option(\"display.max_columns\", None)\n",
    "\n",
    "from src.get_files import GetFiles"
   ]
  },
  {
   "cell_type": "markdown",
   "metadata": {},
   "source": [
    "### Check if csv's are in the data folder, else download them dutch government [website](https://data.overheid.nl/dataset/verkeersongevallen)"
   ]
  },
  {
   "cell_type": "code",
   "execution_count": 2,
   "metadata": {},
   "outputs": [
    {
     "name": "stdout",
     "output_type": "stream",
     "text": [
      "CSV's of accidents are already download and in the data folder\n"
     ]
    }
   ],
   "source": [
    "get_files = GetFiles()\n",
    "\n",
    "if len(os.listdir(\"./data\")) == 0:\n",
    "    get_files.download_csvs()\n",
    "else:\n",
    "    print(\"CSV's of accidents are already download and in the data folder\")"
   ]
  },
  {
   "cell_type": "markdown",
   "metadata": {},
   "source": [
    "### Get all files with the `.csv` suffix"
   ]
  },
  {
   "cell_type": "code",
   "execution_count": 3,
   "metadata": {},
   "outputs": [
    {
     "data": {
      "text/plain": [
       "['ongevallen-2004.csv',\n",
       " 'ongevallen-2005.csv',\n",
       " 'ongevallen-2006.csv',\n",
       " 'ongevallen-2007.csv',\n",
       " 'ongevallen-2008.csv',\n",
       " 'ongevallen-2009.csv',\n",
       " 'ongevallen-2010.csv',\n",
       " 'ongevallen-2011.csv',\n",
       " 'ongevallen-2012.csv',\n",
       " 'ongevallen-2013.csv',\n",
       " 'ongevallen-2014.csv',\n",
       " 'ongevallen-2015.csv']"
      ]
     },
     "execution_count": 3,
     "metadata": {},
     "output_type": "execute_result"
    }
   ],
   "source": [
    "files = sorted([file for file in os.listdir(\"./data\") if file.endswith(\".csv\")])\n",
    "files"
   ]
  },
  {
   "cell_type": "markdown",
   "metadata": {},
   "source": [
    "### Read in the data\n",
    "\n",
    "While reading in the csv's, we assign a new column called `Year` which is the number extracted from the filename"
   ]
  },
  {
   "cell_type": "code",
   "execution_count": 4,
   "metadata": {},
   "outputs": [
    {
     "data": {
      "text/plain": [
       "(1326104, 120)"
      ]
     },
     "execution_count": 4,
     "metadata": {},
     "output_type": "execute_result"
    }
   ],
   "source": [
    "df = pd.concat(\n",
    "    [pd.read_csv(f\"./data/{file}\", low_memory=False).assign(Year=re.search(\"\\d+\", file).group(0)) for file in files], \n",
    "    ignore_index=True\n",
    ")\n",
    "df.shape"
   ]
  },
  {
   "cell_type": "markdown",
   "metadata": {},
   "source": [
    "### Remove columns with more than `80%` missing values\n",
    "\n",
    "1. get sum of `NaN` per column and sort them descending\n",
    "2. get the column names which have more than 80% missing values\n",
    "3. drop these columns"
   ]
  },
  {
   "cell_type": "code",
   "execution_count": 5,
   "metadata": {},
   "outputs": [
    {
     "data": {
      "text/plain": [
       "(1326104, 73)"
      ]
     },
     "execution_count": 5,
     "metadata": {},
     "output_type": "execute_result"
    }
   ],
   "source": [
    "# 1\n",
    "nan = df.isna().sum().sort_values(ascending=False)\n",
    "# 2\n",
    "to_remove = nan[nan.div(df.shape[0]).sort_values(ascending=False).gt(0.8)].index\n",
    "# 3\n",
    "df = df.drop(columns=to_remove)\n",
    "df.shape"
   ]
  },
  {
   "cell_type": "markdown",
   "metadata": {},
   "source": [
    "### Convert object columns to categorical\n",
    "\n",
    "1. get column names with object dtype\n",
    "2. per column, count the amount of unique values\n",
    "3. create a series and sort them descending"
   ]
  },
  {
   "cell_type": "code",
   "execution_count": 6,
   "metadata": {},
   "outputs": [
    {
     "data": {
      "text/plain": [
       "Communicatie_Ref       1144887\n",
       "StraatNaam               66479\n",
       "WoonplaatsNaam            2670\n",
       "WegNummer                  628\n",
       "GemeenteNaam               466\n",
       "WijkteamNaam               241\n",
       "RijbewijsCategry           219\n",
       "BasiseenheidNaam           143\n",
       "Inrichting                  82\n",
       "PolitieDistrictNaam         36\n",
       "dtype: int64"
      ]
     },
     "execution_count": 6,
     "metadata": {},
     "output_type": "execute_result"
    }
   ],
   "source": [
    "object_cols = df.select_dtypes(include=object).columns\n",
    "unique_vals = {col: df[col].unique().shape[0] for col in object_cols}\n",
    "s = pd.Series(unique_vals).sort_values(ascending=False)\n",
    "s.head(10)"
   ]
  },
  {
   "cell_type": "markdown",
   "metadata": {},
   "source": [
    "As we can see, `Communicatie_Ref` and `Straatnaam` have quite some unique values, so those will stay as object dtype, the rest will be converted to `Categerical` to save memory."
   ]
  },
  {
   "cell_type": "code",
   "execution_count": 7,
   "metadata": {},
   "outputs": [
    {
     "data": {
      "text/plain": [
       "3480.77939"
      ]
     },
     "execution_count": 7,
     "metadata": {},
     "output_type": "execute_result"
    }
   ],
   "source": [
    "# check memory usage before\n",
    "df.memory_usage(deep=True).sum() / 1_000_000"
   ]
  },
  {
   "cell_type": "code",
   "execution_count": 8,
   "metadata": {},
   "outputs": [],
   "source": [
    "exclude = [\"Communicatie_Ref\", \"StraatNaam\"]\n",
    "to_categorical = [col for col in object_cols if col not in exclude]\n",
    "df[to_categorical] = df[to_categorical].astype(\"category\")"
   ]
  },
  {
   "cell_type": "code",
   "execution_count": 9,
   "metadata": {},
   "outputs": [
    {
     "data": {
      "text/plain": [
       "508.265174"
      ]
     },
     "execution_count": 9,
     "metadata": {},
     "output_type": "execute_result"
    }
   ],
   "source": [
    "# check memory usage after converting to categorical\n",
    "df.memory_usage(deep=True).sum() / 1_000_000"
   ]
  }
 ],
 "metadata": {
  "kernelspec": {
   "display_name": "Python 3",
   "language": "python",
   "name": "python3"
  },
  "language_info": {
   "codemirror_mode": {
    "name": "ipython",
    "version": 3
   },
   "file_extension": ".py",
   "mimetype": "text/x-python",
   "name": "python",
   "nbconvert_exporter": "python",
   "pygments_lexer": "ipython3",
   "version": "3.8.5"
  }
 },
 "nbformat": 4,
 "nbformat_minor": 4
}
