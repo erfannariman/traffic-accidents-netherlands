{
 "cells": [
  {
   "cell_type": "markdown",
   "metadata": {},
   "source": [
    "# Exploratory data analysis of the dutch road accidents \n",
    "_Timespan of data: 2004-2015_\n",
    "\n",
    "<img src='./img/accident.jpeg'>\n",
    "\n",
    "Author: Erfan Nariman  \n",
    "Date: 20-09-2020"
   ]
  },
  {
   "cell_type": "code",
   "execution_count": 1,
   "metadata": {},
   "outputs": [],
   "source": [
    "import os\n",
    "import re\n",
    "import pandas as pd\n",
    "import matplotlib.pyplot as plt\n",
    "\n",
    "pd.set_option(\"display.max_columns\", None)\n",
    "\n",
    "from src.get_files import GetFiles"
   ]
  },
  {
   "cell_type": "markdown",
   "metadata": {},
   "source": [
    "### Check if csv's are in the data folder, else download them dutch government [website](https://data.overheid.nl/dataset/verkeersongevallen)"
   ]
  },
  {
   "cell_type": "code",
   "execution_count": 2,
   "metadata": {},
   "outputs": [
    {
     "name": "stdout",
     "output_type": "stream",
     "text": [
      "CSV's of accidents are already downloaded and in the data folder\n"
     ]
    }
   ],
   "source": [
    "get_files = GetFiles()\n",
    "\n",
    "if len(os.listdir(\"./data\")) == 0:\n",
    "    get_files.download_csvs()\n",
    "else:\n",
    "    print(\"CSV's of accidents are already downloaded and in the data folder\")"
   ]
  },
  {
   "cell_type": "markdown",
   "metadata": {},
   "source": [
    "### Get all files with the `.csv` suffix"
   ]
  },
  {
   "cell_type": "code",
   "execution_count": 3,
   "metadata": {},
   "outputs": [
    {
     "data": {
      "text/plain": [
       "['ongevallen-2004.csv',\n",
       " 'ongevallen-2005.csv',\n",
       " 'ongevallen-2006.csv',\n",
       " 'ongevallen-2007.csv',\n",
       " 'ongevallen-2008.csv',\n",
       " 'ongevallen-2009.csv',\n",
       " 'ongevallen-2010.csv',\n",
       " 'ongevallen-2011.csv',\n",
       " 'ongevallen-2012.csv',\n",
       " 'ongevallen-2013.csv',\n",
       " 'ongevallen-2014.csv',\n",
       " 'ongevallen-2015.csv']"
      ]
     },
     "execution_count": 3,
     "metadata": {},
     "output_type": "execute_result"
    }
   ],
   "source": [
    "files = sorted([file for file in os.listdir(\"./data\") if file.endswith(\".csv\")])\n",
    "files"
   ]
  },
  {
   "cell_type": "markdown",
   "metadata": {},
   "source": [
    "### Read in the data\n",
    "\n",
    "While reading in the csv's, we assign a new column called `Year` which is the number extracted from the filename"
   ]
  },
  {
   "cell_type": "code",
   "execution_count": 4,
   "metadata": {},
   "outputs": [
    {
     "data": {
      "text/plain": [
       "(1326104, 87)"
      ]
     },
     "execution_count": 4,
     "metadata": {},
     "output_type": "execute_result"
    }
   ],
   "source": [
    "# load list of columns to keep while reading in data\n",
    "from src.mapping import use_cols\n",
    "\n",
    "dfs = []\n",
    "for file in files:\n",
    "    df = pd.read_csv(f\"./data/{file}\", low_memory=False)\n",
    "    if \"Volgnummer_Partijen\" in df.columns:\n",
    "        df = df.rename(columns={\"Volgnummer_Partijen\": \"Volgnummer\", \"Provincie\": \"ProvincieNaam\"})\n",
    "    if \"Latitidue\" in df.columns:\n",
    "        df = df.rename(columns={\"Latitidue\": \"Latitude\"})\n",
    "    df = df[use_cols]\n",
    "    dfs.append(df)\n",
    "\n",
    "df = pd.concat(dfs, ignore_index=True)\n",
    "df.shape"
   ]
  },
  {
   "cell_type": "markdown",
   "metadata": {},
   "source": [
    "### Remove columns with more than `80%` missing values\n",
    "\n",
    "1. get sum of `NaN` per column and sort them descending\n",
    "2. get the column names which have more than 80% missing values\n",
    "3. drop these columns"
   ]
  },
  {
   "cell_type": "code",
   "execution_count": 5,
   "metadata": {},
   "outputs": [
    {
     "name": "stdout",
     "output_type": "stream",
     "text": [
      "Index(['AantalPassagiers', 'BijzonderheidTypeInfrastructuur3',\n",
      "       'VastgelegdePlaats2', 'BijzonderheidTidelijkAard3',\n",
      "       'GevaarlijkStoffenPlaat', 'WegsituatieAnders', 'Zichtafstand',\n",
      "       'BijzonderheidTypeInfrastructuur2', 'Beweging_An',\n",
      "       'BijzonderheidTidelijkAard2', 'BijzonderheidTidelijkAard_An',\n",
      "       'Weergesteldheid2', 'BijzonderheidTypeVerkeersmaatregel3',\n",
      "       'Wegdekken_Anders', 'Beweging2', 'Aangrijppunt2',\n",
      "       'Wegverharding_Anders', 'RibewijsBeginnr', 'VastgelegdePlaats_An',\n",
      "       'AanhangenWagen', 'BromfietsCertificate', 'HectoLetter',\n",
      "       'BijzonderheidTypeVerkeersmaatregel_An', 'ObjectType_Anders',\n",
      "       'Wegvak_EndDat', 'BijzonderheidTypeInfrastructuur_An',\n",
      "       'BijzonderheidTidelijkAard1', 'BijzonderheidTypeVerkeersmaatregel2',\n",
      "       'BijzonderheidTypeInfrastructuur1', 'Lengte', 'WijkNaam', 'Breedte',\n",
      "       'Doorrijder', 'SamengesteldLocatieNummer_Wegvak',\n",
      "       'SamengesteldLocatieType_Wegvak', 'SamengesteldLocatieType_Junctie',\n",
      "       'SamengesteldLocatieNummer_Junctie', 'WaterschaapNaam', 'Huisnummer',\n",
      "       'ProcesverbaalOpgem', 'Hectometer', 'Geslacht_BstuurdrOfVoetgngr',\n",
      "       'BijzonderheidTypeVerkeersmaatregel1', 'WegvakRichting'],\n",
      "      dtype='object')\n"
     ]
    },
    {
     "data": {
      "text/plain": [
       "(1326104, 43)"
      ]
     },
     "execution_count": 5,
     "metadata": {},
     "output_type": "execute_result"
    }
   ],
   "source": [
    "# 1\n",
    "nan = df.isna().sum().sort_values(ascending=False)\n",
    "# 2\n",
    "to_remove = nan[nan.div(df.shape[0]).gt(0.8)].index\n",
    "print(to_remove)\n",
    "# 3\n",
    "df = df.drop(columns=to_remove)\n",
    "df.shape"
   ]
  },
  {
   "cell_type": "markdown",
   "metadata": {},
   "source": [
    "### Convert object columns to categorical\n",
    "\n",
    "1. get column names with object dtype\n",
    "2. per column, count the amount of unique values\n",
    "3. create a series and sort them descending"
   ]
  },
  {
   "cell_type": "code",
   "execution_count": 6,
   "metadata": {},
   "outputs": [
    {
     "data": {
      "text/plain": [
       "2318.292435"
      ]
     },
     "execution_count": 6,
     "metadata": {},
     "output_type": "execute_result"
    }
   ],
   "source": [
    "# check memory usage before\n",
    "df.memory_usage(deep=True).sum() / 1_000_000"
   ]
  },
  {
   "cell_type": "code",
   "execution_count": 7,
   "metadata": {},
   "outputs": [],
   "source": [
    "object_cols = df.head(1).select_dtypes(include=object).columns\n",
    "df[object_cols] = df[object_cols].astype(\"category\")"
   ]
  },
  {
   "cell_type": "code",
   "execution_count": 8,
   "metadata": {},
   "outputs": [
    {
     "data": {
      "text/plain": [
       "161.896126"
      ]
     },
     "execution_count": 8,
     "metadata": {},
     "output_type": "execute_result"
    }
   ],
   "source": [
    "# check memory usage after converting to categorical\n",
    "df.memory_usage(deep=True).sum() / 1_000_000"
   ]
  },
  {
   "cell_type": "markdown",
   "metadata": {},
   "source": [
    "# Data prep"
   ]
  },
  {
   "cell_type": "markdown",
   "metadata": {},
   "source": [
    "### Create target variable"
   ]
  },
  {
   "cell_type": "code",
   "execution_count": 9,
   "metadata": {},
   "outputs": [],
   "source": [
    "# Save target translation for later\n",
    "target_translation = dict(zip(df['Afloop3'].cat.categories, range(len(df['Afloop3'].cat.categories))))\n",
    "df['Target'] = df['Afloop3'].cat.codes\n",
    "df = df.drop(columns=\"Afloop3\")"
   ]
  },
  {
   "cell_type": "code",
   "execution_count": 10,
   "metadata": {},
   "outputs": [
    {
     "data": {
      "text/html": [
       "<div>\n",
       "<style scoped>\n",
       "    .dataframe tbody tr th:only-of-type {\n",
       "        vertical-align: middle;\n",
       "    }\n",
       "\n",
       "    .dataframe tbody tr th {\n",
       "        vertical-align: top;\n",
       "    }\n",
       "\n",
       "    .dataframe thead th {\n",
       "        text-align: right;\n",
       "    }\n",
       "</style>\n",
       "<table border=\"1\" class=\"dataframe\">\n",
       "  <thead>\n",
       "    <tr style=\"text-align: right;\">\n",
       "      <th></th>\n",
       "      <th>Wegverlichting</th>\n",
       "      <th>ProvincieNaam</th>\n",
       "      <th>EndpuntAfstand</th>\n",
       "      <th>Lichtgesteldheid</th>\n",
       "      <th>WegBeheerder</th>\n",
       "      <th>Latitude</th>\n",
       "      <th>WegNummer</th>\n",
       "      <th>VoertuigVerlichting</th>\n",
       "      <th>AangrijppuntType</th>\n",
       "      <th>Aangrijppunt1</th>\n",
       "      <th>BeginpuntAfstand</th>\n",
       "      <th>AantalWegvakkenMetJunctie</th>\n",
       "      <th>KaderwetgebiedNaam</th>\n",
       "      <th>Volgnummer</th>\n",
       "      <th>ActueellWegvakkenMetJunctie</th>\n",
       "      <th>WegdeelLetter</th>\n",
       "      <th>ObjectType</th>\n",
       "      <th>MassaLeegVoertuig</th>\n",
       "      <th>AantalPartijen</th>\n",
       "      <th>RijbewijsCategry</th>\n",
       "      <th>AangegevenMaxSnelheid</th>\n",
       "      <th>Wegsituatie</th>\n",
       "      <th>BebouwdeKom</th>\n",
       "      <th>Aard</th>\n",
       "      <th>Inrichting</th>\n",
       "      <th>Wegdekken</th>\n",
       "      <th>Baansubsoort</th>\n",
       "      <th>Schade</th>\n",
       "      <th>APKGekeurd</th>\n",
       "      <th>StraatType</th>\n",
       "      <th>VastgelegdePlaats1</th>\n",
       "      <th>Wegverharding</th>\n",
       "      <th>VoertuigVerzekerd</th>\n",
       "      <th>KlokAanduingAlsEnd</th>\n",
       "      <th>RelatievePositie</th>\n",
       "      <th>Wegvak_BeginDat</th>\n",
       "      <th>Beweging1</th>\n",
       "      <th>RibewijsGeldg</th>\n",
       "      <th>VoorgenomenBeweging</th>\n",
       "      <th>GekoppledNiveau</th>\n",
       "      <th>Weergesteldheid1</th>\n",
       "      <th>KlokAanduingAlsBegin</th>\n",
       "      <th>Target</th>\n",
       "    </tr>\n",
       "  </thead>\n",
       "  <tbody>\n",
       "    <tr>\n",
       "      <th>0</th>\n",
       "      <td>NaN</td>\n",
       "      <td>Zeeland</td>\n",
       "      <td>NaN</td>\n",
       "      <td>Daglicht</td>\n",
       "      <td>G</td>\n",
       "      <td>51.313763</td>\n",
       "      <td>NaN</td>\n",
       "      <td>Niet aanwezig/nvt</td>\n",
       "      <td>NaN</td>\n",
       "      <td>NaN</td>\n",
       "      <td>NaN</td>\n",
       "      <td>NaN</td>\n",
       "      <td>NaN</td>\n",
       "      <td>NaN</td>\n",
       "      <td>NaN</td>\n",
       "      <td>NaN</td>\n",
       "      <td>Overig vast object</td>\n",
       "      <td>NaN</td>\n",
       "      <td>2</td>\n",
       "      <td>NaN</td>\n",
       "      <td>30.0</td>\n",
       "      <td>Rechte weg</td>\n",
       "      <td>Binnen</td>\n",
       "      <td>Vast voorwerp</td>\n",
       "      <td>NaN</td>\n",
       "      <td>Droog</td>\n",
       "      <td>NaN</td>\n",
       "      <td>NaN</td>\n",
       "      <td>NaN</td>\n",
       "      <td>PTT-straat</td>\n",
       "      <td>Trottoir/berm</td>\n",
       "      <td>Klinkers</td>\n",
       "      <td>NaN</td>\n",
       "      <td>10.0</td>\n",
       "      <td>NaN</td>\n",
       "      <td>20030501.0</td>\n",
       "      <td>NaN</td>\n",
       "      <td>NaN</td>\n",
       "      <td>NaN</td>\n",
       "      <td>Ongeval gekoppeld op straat niveau</td>\n",
       "      <td>Droog</td>\n",
       "      <td>3.0</td>\n",
       "      <td>2</td>\n",
       "    </tr>\n",
       "    <tr>\n",
       "      <th>1</th>\n",
       "      <td>Niet aanwezig</td>\n",
       "      <td>Noord-Brabant</td>\n",
       "      <td>NaN</td>\n",
       "      <td>Daglicht</td>\n",
       "      <td>G</td>\n",
       "      <td>51.527046</td>\n",
       "      <td>NaN</td>\n",
       "      <td>Onbekend</td>\n",
       "      <td>V</td>\n",
       "      <td>Rechterflank</td>\n",
       "      <td>NaN</td>\n",
       "      <td>NaN</td>\n",
       "      <td>REGIO NOORD BRABANT-OV</td>\n",
       "      <td>1.0</td>\n",
       "      <td>NaN</td>\n",
       "      <td>NaN</td>\n",
       "      <td>Motor</td>\n",
       "      <td>210.0</td>\n",
       "      <td>1</td>\n",
       "      <td>A1</td>\n",
       "      <td>80.0</td>\n",
       "      <td>Bocht</td>\n",
       "      <td>Buiten</td>\n",
       "      <td>Eenzijdig</td>\n",
       "      <td>geen zijspan toegestaan</td>\n",
       "      <td>Droog</td>\n",
       "      <td>NaN</td>\n",
       "      <td>J</td>\n",
       "      <td>NaN</td>\n",
       "      <td>PTT-straat</td>\n",
       "      <td>Rijbaan</td>\n",
       "      <td>Overig asfalt</td>\n",
       "      <td>J</td>\n",
       "      <td>10.0</td>\n",
       "      <td>NaN</td>\n",
       "      <td>19980216.0</td>\n",
       "      <td>Stilstand</td>\n",
       "      <td>J</td>\n",
       "      <td>Vooruit</td>\n",
       "      <td>Ongeval exact gekoppeld aan BN</td>\n",
       "      <td>Droog</td>\n",
       "      <td>4.0</td>\n",
       "      <td>1</td>\n",
       "    </tr>\n",
       "    <tr>\n",
       "      <th>2</th>\n",
       "      <td>Niet brandend</td>\n",
       "      <td>Zeeland</td>\n",
       "      <td>NaN</td>\n",
       "      <td>Daglicht</td>\n",
       "      <td>G</td>\n",
       "      <td>51.499148</td>\n",
       "      <td>NaN</td>\n",
       "      <td>Onbekend</td>\n",
       "      <td>V</td>\n",
       "      <td>Rechts voor</td>\n",
       "      <td>NaN</td>\n",
       "      <td>NaN</td>\n",
       "      <td>NaN</td>\n",
       "      <td>NaN</td>\n",
       "      <td>NaN</td>\n",
       "      <td>NaN</td>\n",
       "      <td>Personenauto</td>\n",
       "      <td>1405.0</td>\n",
       "      <td>2</td>\n",
       "      <td>B</td>\n",
       "      <td>50.0</td>\n",
       "      <td>Rechte weg</td>\n",
       "      <td>Binnen</td>\n",
       "      <td>Kop/staart</td>\n",
       "      <td>combinatiewagen</td>\n",
       "      <td>Droog</td>\n",
       "      <td>NaN</td>\n",
       "      <td>J</td>\n",
       "      <td>J</td>\n",
       "      <td>PTT-straat</td>\n",
       "      <td>Trottoir/berm</td>\n",
       "      <td>Overig asfalt</td>\n",
       "      <td>J</td>\n",
       "      <td>8.0</td>\n",
       "      <td>NaN</td>\n",
       "      <td>20030201.0</td>\n",
       "      <td>NaN</td>\n",
       "      <td>J</td>\n",
       "      <td>Achteruit</td>\n",
       "      <td>Ongeval exact gekoppeld aan BN</td>\n",
       "      <td>Droog</td>\n",
       "      <td>2.0</td>\n",
       "      <td>2</td>\n",
       "    </tr>\n",
       "    <tr>\n",
       "      <th>3</th>\n",
       "      <td>NaN</td>\n",
       "      <td>Zeeland</td>\n",
       "      <td>NaN</td>\n",
       "      <td>Daglicht</td>\n",
       "      <td>G</td>\n",
       "      <td>51.313763</td>\n",
       "      <td>NaN</td>\n",
       "      <td>Onbekend</td>\n",
       "      <td>NaN</td>\n",
       "      <td>NaN</td>\n",
       "      <td>NaN</td>\n",
       "      <td>NaN</td>\n",
       "      <td>NaN</td>\n",
       "      <td>NaN</td>\n",
       "      <td>NaN</td>\n",
       "      <td>NaN</td>\n",
       "      <td>Onbekend voertuig i.g.v. doorrijder</td>\n",
       "      <td>NaN</td>\n",
       "      <td>2</td>\n",
       "      <td>NaN</td>\n",
       "      <td>50.0</td>\n",
       "      <td>Rechte weg</td>\n",
       "      <td>Binnen</td>\n",
       "      <td>Vast voorwerp</td>\n",
       "      <td>NaN</td>\n",
       "      <td>NaN</td>\n",
       "      <td>NaN</td>\n",
       "      <td>NaN</td>\n",
       "      <td>NaN</td>\n",
       "      <td>PTT-straat</td>\n",
       "      <td>NaN</td>\n",
       "      <td>Overig asfalt</td>\n",
       "      <td>NaN</td>\n",
       "      <td>10.0</td>\n",
       "      <td>NaN</td>\n",
       "      <td>20030501.0</td>\n",
       "      <td>NaN</td>\n",
       "      <td>NaN</td>\n",
       "      <td>NaN</td>\n",
       "      <td>Ongeval gekoppeld op straat niveau</td>\n",
       "      <td>Onbekend</td>\n",
       "      <td>3.0</td>\n",
       "      <td>2</td>\n",
       "    </tr>\n",
       "    <tr>\n",
       "      <th>4</th>\n",
       "      <td>Brandend</td>\n",
       "      <td>Zeeland</td>\n",
       "      <td>NaN</td>\n",
       "      <td>Daglicht</td>\n",
       "      <td>G</td>\n",
       "      <td>51.313218</td>\n",
       "      <td>NaN</td>\n",
       "      <td>Niet aanwezig/nvt</td>\n",
       "      <td>NaN</td>\n",
       "      <td>NaN</td>\n",
       "      <td>NaN</td>\n",
       "      <td>NaN</td>\n",
       "      <td>NaN</td>\n",
       "      <td>NaN</td>\n",
       "      <td>NaN</td>\n",
       "      <td>NaN</td>\n",
       "      <td>Overig vast object</td>\n",
       "      <td>NaN</td>\n",
       "      <td>2</td>\n",
       "      <td>NaN</td>\n",
       "      <td>50.0</td>\n",
       "      <td>Rechte weg</td>\n",
       "      <td>Buiten</td>\n",
       "      <td>Vast voorwerp</td>\n",
       "      <td>NaN</td>\n",
       "      <td>Nat</td>\n",
       "      <td>NaN</td>\n",
       "      <td>NaN</td>\n",
       "      <td>NaN</td>\n",
       "      <td>PTT-straat</td>\n",
       "      <td>Trottoir/berm</td>\n",
       "      <td>Beton</td>\n",
       "      <td>NaN</td>\n",
       "      <td>7.0</td>\n",
       "      <td>NaN</td>\n",
       "      <td>20030501.0</td>\n",
       "      <td>NaN</td>\n",
       "      <td>NaN</td>\n",
       "      <td>NaN</td>\n",
       "      <td>Ongeval exact gekoppeld aan BN</td>\n",
       "      <td>NaN</td>\n",
       "      <td>12.0</td>\n",
       "      <td>2</td>\n",
       "    </tr>\n",
       "  </tbody>\n",
       "</table>\n",
       "</div>"
      ],
      "text/plain": [
       "  Wegverlichting  ProvincieNaam  EndpuntAfstand Lichtgesteldheid WegBeheerder  \\\n",
       "0            NaN        Zeeland             NaN         Daglicht            G   \n",
       "1  Niet aanwezig  Noord-Brabant             NaN         Daglicht            G   \n",
       "2  Niet brandend        Zeeland             NaN         Daglicht            G   \n",
       "3            NaN        Zeeland             NaN         Daglicht            G   \n",
       "4       Brandend        Zeeland             NaN         Daglicht            G   \n",
       "\n",
       "    Latitude WegNummer VoertuigVerlichting AangrijppuntType Aangrijppunt1  \\\n",
       "0  51.313763       NaN   Niet aanwezig/nvt              NaN           NaN   \n",
       "1  51.527046       NaN            Onbekend                V  Rechterflank   \n",
       "2  51.499148       NaN            Onbekend                V   Rechts voor   \n",
       "3  51.313763       NaN            Onbekend              NaN           NaN   \n",
       "4  51.313218       NaN   Niet aanwezig/nvt              NaN           NaN   \n",
       "\n",
       "   BeginpuntAfstand  AantalWegvakkenMetJunctie      KaderwetgebiedNaam  \\\n",
       "0               NaN                        NaN                     NaN   \n",
       "1               NaN                        NaN  REGIO NOORD BRABANT-OV   \n",
       "2               NaN                        NaN                     NaN   \n",
       "3               NaN                        NaN                     NaN   \n",
       "4               NaN                        NaN                     NaN   \n",
       "\n",
       "   Volgnummer ActueellWegvakkenMetJunctie WegdeelLetter  \\\n",
       "0         NaN                         NaN           NaN   \n",
       "1         1.0                         NaN           NaN   \n",
       "2         NaN                         NaN           NaN   \n",
       "3         NaN                         NaN           NaN   \n",
       "4         NaN                         NaN           NaN   \n",
       "\n",
       "                            ObjectType  MassaLeegVoertuig  AantalPartijen  \\\n",
       "0                   Overig vast object                NaN               2   \n",
       "1                                Motor              210.0               1   \n",
       "2                         Personenauto             1405.0               2   \n",
       "3  Onbekend voertuig i.g.v. doorrijder                NaN               2   \n",
       "4                   Overig vast object                NaN               2   \n",
       "\n",
       "  RijbewijsCategry  AangegevenMaxSnelheid Wegsituatie BebouwdeKom  \\\n",
       "0              NaN                   30.0  Rechte weg      Binnen   \n",
       "1               A1                   80.0       Bocht      Buiten   \n",
       "2                B                   50.0  Rechte weg      Binnen   \n",
       "3              NaN                   50.0  Rechte weg      Binnen   \n",
       "4              NaN                   50.0  Rechte weg      Buiten   \n",
       "\n",
       "            Aard               Inrichting Wegdekken Baansubsoort Schade  \\\n",
       "0  Vast voorwerp                      NaN     Droog          NaN    NaN   \n",
       "1      Eenzijdig  geen zijspan toegestaan     Droog          NaN      J   \n",
       "2     Kop/staart          combinatiewagen     Droog          NaN      J   \n",
       "3  Vast voorwerp                      NaN       NaN          NaN    NaN   \n",
       "4  Vast voorwerp                      NaN       Nat          NaN    NaN   \n",
       "\n",
       "  APKGekeurd  StraatType VastgelegdePlaats1  Wegverharding VoertuigVerzekerd  \\\n",
       "0        NaN  PTT-straat      Trottoir/berm       Klinkers               NaN   \n",
       "1        NaN  PTT-straat            Rijbaan  Overig asfalt                 J   \n",
       "2          J  PTT-straat      Trottoir/berm  Overig asfalt                 J   \n",
       "3        NaN  PTT-straat                NaN  Overig asfalt               NaN   \n",
       "4        NaN  PTT-straat      Trottoir/berm          Beton               NaN   \n",
       "\n",
       "   KlokAanduingAlsEnd RelatievePositie  Wegvak_BeginDat  Beweging1  \\\n",
       "0                10.0              NaN       20030501.0        NaN   \n",
       "1                10.0              NaN       19980216.0  Stilstand   \n",
       "2                 8.0              NaN       20030201.0        NaN   \n",
       "3                10.0              NaN       20030501.0        NaN   \n",
       "4                 7.0              NaN       20030501.0        NaN   \n",
       "\n",
       "  RibewijsGeldg VoorgenomenBeweging                     GekoppledNiveau  \\\n",
       "0           NaN                 NaN  Ongeval gekoppeld op straat niveau   \n",
       "1             J             Vooruit      Ongeval exact gekoppeld aan BN   \n",
       "2             J           Achteruit      Ongeval exact gekoppeld aan BN   \n",
       "3           NaN                 NaN  Ongeval gekoppeld op straat niveau   \n",
       "4           NaN                 NaN      Ongeval exact gekoppeld aan BN   \n",
       "\n",
       "  Weergesteldheid1  KlokAanduingAlsBegin  Target  \n",
       "0            Droog                   3.0       2  \n",
       "1            Droog                   4.0       1  \n",
       "2            Droog                   2.0       2  \n",
       "3         Onbekend                   3.0       2  \n",
       "4              NaN                  12.0       2  "
      ]
     },
     "execution_count": 10,
     "metadata": {},
     "output_type": "execute_result"
    }
   ],
   "source": [
    "df.head()"
   ]
  }
 ],
 "metadata": {
  "kernelspec": {
   "display_name": "Python 3",
   "language": "python",
   "name": "python3"
  },
  "language_info": {
   "codemirror_mode": {
    "name": "ipython",
    "version": 3
   },
   "file_extension": ".py",
   "mimetype": "text/x-python",
   "name": "python",
   "nbconvert_exporter": "python",
   "pygments_lexer": "ipython3",
   "version": "3.8.5"
  }
 },
 "nbformat": 4,
 "nbformat_minor": 4
}
